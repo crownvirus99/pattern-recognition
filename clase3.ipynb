{
 "cells": [
  {
   "cell_type": "code",
   "execution_count": 6,
   "metadata": {},
   "outputs": [
    {
     "name": "stdout",
     "output_type": "stream",
     "text": [
      "[95.13148795  9.2758109   6.26859634  4.96344561  3.07768354  2.82842712\n",
      "  1.17247141  1.95828428  0.72654253  0.45667899  1.41421356  0.38513905\n",
      "  0.72654253  0.09852369  0.51442299  2.          3.07768354  2.3960529\n",
      "  2.65807819 52.41546526]\n"
     ]
    },
    {
     "data": {
      "text/plain": [
       "<BarContainer object of 20 artists>"
      ]
     },
     "execution_count": 6,
     "metadata": {},
     "output_type": "execute_result"
    },
    {
     "data": {
      "image/png": "[encoded data removed]",
      "text/plain": [
       "<Figure size 432x288 with 1 Axes>"
      ]
     },
     "metadata": {
      "needs_background": "light"
     },
     "output_type": "display_data"
    }
   ],
   "source": [
    "import cv2\n",
    "import numpy as np\n",
    "import matplotlib.pyplot as plt\n",
    "\n",
    "#imagen inventada\n",
    "bw=[[0, 0, 0, 0, 0, 0, 0, 0],\n",
    "    [0, 1, 1, 1, 1, 0, 0, 0],\n",
    "    [0, 1, 1, 1, 1, 0, 0, 0],\n",
    "    [0, 1, 1, 1, 1, 0, 0, 0],\n",
    "    [0, 1, 1, 1, 1, 1, 1, 0],\n",
    "    [0, 1, 1, 1, 1, 1, 1, 0],\n",
    "    [0, 1, 1, 1, 1, 1, 1, 0],\n",
    "    [0, 0, 0, 0, 0, 0, 0, 0]]\n",
    "\n",
    "#transformamos los datos a uint8\n",
    "binary = np.array(bw, dtype='uint8')\n",
    "\n",
    "pos, rt = cv2.findContours(binary, cv2.RETR_EXTERNAL, cv2.CHAIN_APPROX_NONE)\n",
    "\n",
    "coords = np.vstack(pos[0])\n",
    "\n",
    "x, y = zip(*coords)\n",
    "\n",
    "\n",
    "CX = np.array(x)+ 1j*np.array(y)\n",
    "CX = np.append(CX,CX[0])\n",
    "\n",
    "\n",
    "\n",
    "FF = np.fft.fft(CX)\n",
    "\n",
    "print(np.abs(FF))\n",
    "plt.bar(np.arange(0,len(FF)), height=np.abs(FF))"
   ]
  },
  {
   "cell_type": "code",
   "execution_count": 7,
   "metadata": {},
   "outputs": [
    {
     "name": "stdout",
     "output_type": "stream",
     "text": [
      "[7 3 1 4 9]\n",
      "[2 1 3 0 4]\n",
      "[9 7 4 3 1]\n"
     ]
    }
   ],
   "source": [
    "import numpy as np\n",
    "\n",
    "a= np.array([7,3,1,4,9])\n",
    "print(a)\n",
    "\n",
    "ii = np.argsort(a)\n",
    "print(ii)\n",
    "ii = ii[::-1]\n",
    "\n",
    "print(a[ii])"
   ]
  }
 ],
 "metadata": {
  "kernelspec": {
   "display_name": "Python 3.10.4 64-bit",
   "language": "python",
   "name": "python3"
  },
  "language_info": {
   "codemirror_mode": {
    "name": "ipython",
    "version": 3
   },
   "file_extension": ".py",
   "mimetype": "text/x-python",
   "name": "python",
   "nbconvert_exporter": "python",
   "pygments_lexer": "ipython3",
   "version": "3.10.4"
  },
  "orig_nbformat": 4,
  "vscode": {
   "interpreter": {
    "hash": "e7ccb2a435b656723dafd2fb88eb02b6891256ab8b77d2cf3044cea9811453d0"
   }
  }
 },
 "nbformat": 4,
 "nbformat_minor": 2
}

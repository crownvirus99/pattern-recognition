{
 "cells": [
  {
   "cell_type": "code",
   "execution_count": 7,
   "metadata": {},
   "outputs": [
    {
     "data": {
      "text/plain": [
       "array([[1, 2],\n",
       "       [2, 1],\n",
       "       [2, 2],\n",
       "       [2, 3],\n",
       "       [2, 4],\n",
       "       [3, 1],\n",
       "       [3, 2],\n",
       "       [3, 3],\n",
       "       [4, 3]], dtype=int64)"
      ]
     },
     "execution_count": 7,
     "metadata": {},
     "output_type": "execute_result"
    }
   ],
   "source": [
    "import numpy as np\n",
    "\n",
    "def mrs(I, J, r, s):\n",
    "     a = I**r\n",
    "     b = J**s\n",
    "     return(np.sum(a*b))\n",
    "\n",
    "M = [[ 0, 0, 0, 0, 0, 0],\n",
    "     [ 0, 0, 1, 0, 0 ,0],\n",
    "     [ 0, 1, 1, 1, 1, 0],\n",
    "     [ 0, 1, 1, 1, 0, 0],\n",
    "     [ 0, 0, 0, 1, 0, 0],\n",
    "     [ 0, 0, 0, 0, 0, 0]]\n",
    "\n",
    "M = np.array(M)\n",
    "\n",
    "coord = np.argwhere(M==1)\n",
    "\n",
    "ci = coord[:,0]\n",
    "cj = coord[:,1]\n",
    "coord"
   ]
  },
  {
   "cell_type": "code",
   "execution_count": 2,
   "metadata": {},
   "outputs": [
    {
     "data": {
      "text/plain": [
       "15"
      ]
     },
     "execution_count": 2,
     "metadata": {},
     "output_type": "execute_result"
    }
   ],
   "source": [
    "r = 1\n",
    "s = 0\n",
    "cir = ci**r\n",
    "cjs = cj**s\n",
    "mrs = np.sum(cir*cjs)\n",
    "mrs"
   ]
  },
  {
   "cell_type": "code",
   "execution_count": 3,
   "metadata": {},
   "outputs": [],
   "source": [
    "def murs(i, j , r, s):\n",
    "    a = i**r\n",
    "    b = j**s\n",
    "    m00 = mrs(ci, cj, 0, 0)\n",
    "    m10 = mrs(ci, cj, 1, 0)\n",
    "    m01 = mrs(ci, cj, 0, 1)\n",
    "    cx = m10/m00 \n",
    "    cy = m01/m00\n",
    "    a = ((i - cx)**r)\n",
    "    b = ((j - cy)**s)\n",
    "    return(np.sum(a*b))\n"
   ]
  },
  {
   "cell_type": "code",
   "execution_count": 8,
   "metadata": {},
   "outputs": [
    {
     "data": {
      "text/plain": [
       "6.222222222222221"
      ]
     },
     "execution_count": 8,
     "metadata": {},
     "output_type": "execute_result"
    }
   ],
   "source": [
    "murs(ci, cj, 2, 0)"
   ]
  }
 ],
 "metadata": {
  "kernelspec": {
   "display_name": "Python 3.10.4 64-bit",
   "language": "python",
   "name": "python3"
  },
  "language_info": {
   "codemirror_mode": {
    "name": "ipython",
    "version": 3
   },
   "file_extension": ".py",
   "mimetype": "text/x-python",
   "name": "python",
   "nbconvert_exporter": "python",
   "pygments_lexer": "ipython3",
   "version": "3.10.4"
  },
  "orig_nbformat": 4,
  "vscode": {
   "interpreter": {
    "hash": "e7ccb2a435b656723dafd2fb88eb02b6891256ab8b77d2cf3044cea9811453d0"
   }
  }
 },
 "nbformat": 4,
 "nbformat_minor": 2
}

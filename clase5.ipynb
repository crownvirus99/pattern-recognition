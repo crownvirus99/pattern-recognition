{
 "cells": [
  {
   "cell_type": "code",
   "execution_count": 1,
   "metadata": {},
   "outputs": [],
   "source": [
    "import cv2\n",
    "import matplotlib.pyplot as plt\n",
    "import numpy as np\n",
    "from math import sqrt"
   ]
  },
  {
   "cell_type": "code",
   "execution_count": 2,
   "metadata": {},
   "outputs": [
    {
     "data": {
      "text/plain": [
       "<matplotlib.image.AxesImage at 0x2343e9a7e50>"
      ]
     },
     "execution_count": 2,
     "metadata": {},
     "output_type": "execute_result"
    },
    {
     "data": {
      "image/png": "[encoded data removed]",
      "text/plain": [
       "<Figure size 432x288 with 1 Axes>"
      ]
     },
     "metadata": {
      "needs_background": "light"
     },
     "output_type": "display_data"
    }
   ],
   "source": [
    "img = cv2.imread('figura.jpg')\n",
    "\n",
    "blue, green, red = cv2.split(img)\n",
    "\n",
    "ret, bw = cv2.threshold(red, 80, 255, cv2.THRESH_BINARY_INV)\n",
    "plt.imshow(bw, cmap='gray')"
   ]
  },
  {
   "cell_type": "code",
   "execution_count": 10,
   "metadata": {},
   "outputs": [],
   "source": [
    "def gradiente_perimetro(I, J, im):\n",
    "    \n",
    "    n = len(I)\n",
    "    out = 0\n",
    "    for i in range(0, n):\n",
    "        out = out + gradiente(I[i],J[i],im)\n",
    "\n",
    "    return float(out/n)\n",
    "\n",
    "\n",
    "def gradiente(i,j,L):\n",
    "    # funcion que calcula el gradiente\n",
    "    # en la posicion posL de la imagen L\n",
    "    Lx= -0.5*L[i-1,j]+0.5*L[i+1,j]\n",
    "    Ly= -0.5*L[i,j-1]+0.5*L[i,j+1]\n",
    "    out= sqrt(Lx**2+Ly**2)\n",
    "    return out"
   ]
  },
  {
   "cell_type": "code",
   "execution_count": 5,
   "metadata": {},
   "outputs": [],
   "source": [
    "#buscamos las coordenadas de los contornos \n",
    "contours, hierarchy = cv2.findContours(bw, cv2.RETR_EXTERNAL, cv2.CHAIN_APPROX_NONE)\n",
    "contornos = np.vstack(contours[0])\n"
   ]
  },
  {
   "cell_type": "code",
   "execution_count": 21,
   "metadata": {},
   "outputs": [
    {
     "name": "stdout",
     "output_type": "stream",
     "text": [
      "Derivada promedio: 12.76\n"
     ]
    }
   ],
   "source": [
    "x , y = zip(*contornos)\n",
    "x = np.array(x).reshape(-1,1)\n",
    "y = np.array(y).reshape(-1,1)\n",
    "\n",
    "dprom = gradiente_perimetro(x,y, red)\n",
    "print(f'Derivada promedio: {dprom:2.2f}')\n"
   ]
  },
  {
   "cell_type": "code",
   "execution_count": 23,
   "metadata": {},
   "outputs": [
    {
     "data": {
      "image/png": "[encoded data removed]",
      "text/plain": [
       "<Figure size 432x288 with 1 Axes>"
      ]
     },
     "metadata": {
      "needs_background": "light"
     },
     "output_type": "display_data"
    }
   ],
   "source": [
    "plt.figure()\n",
    "plt.imshow(red) \n",
    "plt.scatter(x,y,marker='x', c='red')\n",
    "plt.show()"
   ]
  },
  {
   "cell_type": "code",
   "execution_count": 24,
   "metadata": {},
   "outputs": [],
   "source": [
    "def derivada_region(I, J, im):\n",
    "\n",
    "    n = len(I)\n",
    "    out = 0\n",
    "    for i in range(0, n):\n",
    "        out = out + segunda_derivada(I[i],J[i],im);   \n",
    "\n",
    "    return float(out/n)\n",
    "\n",
    "def segunda_derivada(i, j, L):\n",
    "    #% funcion que calcula el laplaciano\n",
    "    #% en la posicion posL de la imagen L\n",
    "    Lxy= L[i-1,j]+L[i+1,j]+ L[i,j-1]+L[i,j+1]-4*L[i,j]\n",
    "    return Lxy"
   ]
  },
  {
   "cell_type": "code",
   "execution_count": 28,
   "metadata": {},
   "outputs": [
    {
     "name": "stdout",
     "output_type": "stream",
     "text": [
      "Segunda derivada promedio: 8.12\n"
     ]
    },
    {
     "data": {
      "image/png": "[encoded data removed]",
      "text/plain": [
       "<Figure size 432x288 with 1 Axes>"
      ]
     },
     "metadata": {
      "needs_background": "light"
     },
     "output_type": "display_data"
    }
   ],
   "source": [
    "# calculamos la segunda derivada del perímetro\n",
    "dprom = derivada_region(x,y, red)\n",
    "print(f'Segunda derivada promedio: {dprom:2.2f}')\n",
    "plt.figure()\n",
    "plt.imshow(red) \n",
    "plt.scatter(x,y,marker='x', c='red')\n",
    "plt.show()"
   ]
  },
  {
   "cell_type": "code",
   "execution_count": 37,
   "metadata": {},
   "outputs": [],
   "source": [
    "def contraste(im, level):\n",
    "\n",
    "    #imagen binaria umbralizada\n",
    "    bw = im>level\n",
    "\n",
    "    # calculamos el entorno y aplicamos \n",
    "    # una negación a la región\n",
    "    ebw = np.logical_not(bw)\n",
    "\n",
    "    # calculamos el promedio del entorno\n",
    "    Ge = np.sum(im[ebw])/np.sum(ebw)\n",
    "    Gr = np.sum(im[bw])/np.sum(bw)\n",
    "\n",
    "    K1 = (Gr-Ge)/Ge\n",
    "    K2 = (Gr-Ge)/(Gr+Ge)\n",
    "    K3 = np.log(Gr/Ge)\n",
    "    K = K1, K2, K3\n",
    "    return K"
   ]
  },
  {
   "cell_type": "code",
   "execution_count": 43,
   "metadata": {},
   "outputs": [
    {
     "name": "stdout",
     "output_type": "stream",
     "text": [
      "Contraste K1: 1.2278636900645261\n",
      "Contraste K2: 0.3803951492263853\n",
      "Contraste K3: 0.8010431397915222\n"
     ]
    },
    {
     "data": {
      "image/png": "[encoded data removed]",
      "text/plain": [
       "<Figure size 432x288 with 1 Axes>"
      ]
     },
     "metadata": {
      "needs_background": "light"
     },
     "output_type": "display_data"
    }
   ],
   "source": [
    "K = contraste(red, 80)\n",
    "\n",
    "# Resultados del contraste\n",
    "print(f'Contraste K1: {K[0]}')\n",
    "print(f'Contraste K2: {K[1]}')\n",
    "print(f'Contraste K3: {K[2]}')\n",
    "\n",
    "plt.figure()\n",
    "plt.imshow(red) \n",
    "plt.show()"
   ]
  },
  {
   "cell_type": "code",
   "execution_count": 46,
   "metadata": {},
   "outputs": [],
   "source": [
    "from math import copysign, log10\n",
    "\n",
    "def cambio_escala (image, factor):\n",
    "\n",
    "    factor_times = factor\n",
    "    height = int(image.shape[0] * factor_times)\n",
    "    width  = int(image.shape[1] * factor_times)\n",
    "    dim    = (width, height) \n",
    "    #cambio de escala \n",
    "    output = cv2.resize(image, dim, interpolation=cv2.INTER_CUBIC)\n",
    "    return output"
   ]
  },
  {
   "cell_type": "code",
   "execution_count": 49,
   "metadata": {},
   "outputs": [
    {
     "name": "stdout",
     "output_type": "stream",
     "text": [
      "Momento 0\t Original:[2.911657]\t\n",
      "Momento 1\t Original:[8.5911131]\t\n",
      "Momento 2\t Original:[11.2367052]\t\n",
      "Momento 3\t Original:[10.2332868]\t\n",
      "Momento 4\t Original:[-21.0818891]\t\n",
      "Momento 5\t Original:[14.5294331]\t\n",
      "Momento 6\t Original:[-21.163291]\t\n"
     ]
    },
    {
     "data": {
      "image/png": "[encoded data removed]",
      "text/plain": [
       "<Figure size 600x400 with 2 Axes>"
      ]
     },
     "metadata": {
      "needs_background": "light"
     },
     "output_type": "display_data"
    }
   ],
   "source": [
    "#extracción de los siete momentos de HU\n",
    "huMoments = cv2.HuMoments(cv2.moments(red))\n",
    "\n",
    "for i in range(0,7):\n",
    "    huMoments[i] = -1* copysign(1.0, huMoments[i]) * log10(np.abs(huMoments[i]))\n",
    "    print(f'Momento {i}\\t Original:{huMoments[i].round(7)}\\t')\n",
    "\n",
    "\n",
    "plt.figure(dpi=100)\n",
    "plt.subplot(121)\n",
    "plt.imshow(red, cmap='gray')\n",
    "\n",
    "plt.subplot(122)\n",
    "plt.imshow(red, cmap='gray')\n",
    "plt.show()"
   ]
  },
  {
   "cell_type": "code",
   "execution_count": null,
   "metadata": {},
   "outputs": [],
   "source": []
  }
 ],
 "metadata": {
  "kernelspec": {
   "display_name": "Python 3.10.4 64-bit",
   "language": "python",
   "name": "python3"
  },
  "language_info": {
   "codemirror_mode": {
    "name": "ipython",
    "version": 3
   },
   "file_extension": ".py",
   "mimetype": "text/x-python",
   "name": "python",
   "nbconvert_exporter": "python",
   "pygments_lexer": "ipython3",
   "version": "3.10.4"
  },
  "orig_nbformat": 4,
  "vscode": {
   "interpreter": {
    "hash": "e7ccb2a435b656723dafd2fb88eb02b6891256ab8b77d2cf3044cea9811453d0"
   }
  }
 },
 "nbformat": 4,
 "nbformat_minor": 2
}

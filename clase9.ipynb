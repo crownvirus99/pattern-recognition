{
 "cells": [
  {
   "cell_type": "code",
   "execution_count": 1,
   "metadata": {},
   "outputs": [],
   "source": [
    "import numpy as np\n",
    "import matplotlib.pyplot as plt"
   ]
  },
  {
   "cell_type": "code",
   "execution_count": 2,
   "metadata": {},
   "outputs": [
    {
     "name": "stdout",
     "output_type": "stream",
     "text": [
      "las clases son [1. 2. 3.]\n",
      "datos de la clase 1.0\n",
      "[[-0.1306 -1.1811]\n",
      " [-0.7306 -0.9711]\n",
      " [-0.8506 -0.9011]\n",
      " [-0.6806 -0.9611]\n",
      " [-0.3806 -0.3111]\n",
      " [-0.2806 -0.4311]]\n",
      "--------------------------------------------------\n",
      "datos de la clase 2.0\n",
      "[[-0.2706  0.1489]\n",
      " [-0.1106  0.5089]\n",
      " [ 0.0594  0.9689]\n",
      " [-0.0406  1.4789]\n",
      " [-0.0706  1.0189]\n",
      " [ 0.0094  0.7389]]\n",
      "--------------------------------------------------\n",
      "datos de la clase 3.0\n",
      "[[ 0.9294  0.2089]\n",
      " [ 0.3094 -0.0311]\n",
      " [ 0.3594  0.2989]\n",
      " [ 0.4694 -0.4011]\n",
      " [ 0.5194  0.1789]\n",
      " [ 0.8894 -0.3611]]\n",
      "--------------------------------------------------\n"
     ]
    },
    {
     "data": {
      "text/plain": [
       "<matplotlib.collections.PathCollection at 0x1f24a81cca0>"
      ]
     },
     "execution_count": 2,
     "metadata": {},
     "output_type": "execute_result"
    },
    {
     "data": {
      "image/png": "[encoded data removed]",
      "text/plain": [
       "<Figure size 432x288 with 1 Axes>"
      ]
     },
     "metadata": {
      "needs_background": "light"
     },
     "output_type": "display_data"
    }
   ],
   "source": [
    "D=[[-0.1306, -1.1811, 1],\n",
    "    [-0.7306,   -0.9711, 1],\n",
    "    [-0.8506,   -0.9011, 1],\n",
    "    [-0.6806,   -0.9611, 1],\n",
    "    [-0.3806,   -0.3111, 1],\n",
    "    [-0.2806,   -0.4311, 1], \n",
    "    [-0.2706,    0.1489, 2],\n",
    "    [-0.1106,    0.5089, 2],\n",
    "    [ 0.0594,    0.9689, 2],\n",
    "    [-0.0406,    1.4789, 2],\n",
    "    [-0.0706,    1.0189, 2],\n",
    "    [ 0.0094,    0.7389, 2],\n",
    "    [0.9294,    0.2089, 3],\n",
    "    [0.3094,   -0.0311, 3],\n",
    "    [0.3594,    0.2989, 3],\n",
    "    [0.4694,   -0.4011, 3],\n",
    "    [0.5194,    0.1789, 3],\n",
    "    [0.8894,   -0.3611, 3]]\n",
    "\n",
    "D = np.array(D)\n",
    "\n",
    "clases = np.unique(D[:,2])\n",
    "\n",
    "print(f'las clases son {clases}')\n",
    "\n",
    "for clase_i  in clases:\n",
    "    bin_idx = D[:,2]==clase_i\n",
    "    print('datos de la clase', clase_i)\n",
    "\n",
    "    print(D[bin_idx,:2])\n",
    "    print('-'*50)\n",
    "\n",
    "plt.scatter(D[:,0],D[:,1], c=D[:,2])"
   ]
  },
  {
   "cell_type": "code",
   "execution_count": 3,
   "metadata": {},
   "outputs": [
    {
     "name": "stdout",
     "output_type": "stream",
     "text": [
      "datos de la clase 1.0\n",
      "promedio clase  1.0 : [-0.50893333 -0.79276667]\n",
      "desv estandar  1.0 : [0.26047499 0.31237887]\n",
      "--------------------------------------------------\n",
      "datos de la clase 2.0\n",
      "promedio clase  2.0 : [-0.0706      0.81056667]\n",
      "desv estandar  2.0 : [0.10472185 0.41814737]\n",
      "--------------------------------------------------\n",
      "datos de la clase 3.0\n",
      "promedio clase  3.0 : [ 0.5794     -0.01776667]\n",
      "desv estandar  3.0 : [0.24344746 0.27547938]\n",
      "--------------------------------------------------\n"
     ]
    },
    {
     "data": {
      "text/plain": [
       "<matplotlib.collections.PathCollection at 0x1f24c942560>"
      ]
     },
     "execution_count": 3,
     "metadata": {},
     "output_type": "execute_result"
    },
    {
     "data": {
      "image/png": "[encoded data removed]",
      "text/plain": [
       "<Figure size 432x288 with 1 Axes>"
      ]
     },
     "metadata": {
      "needs_background": "light"
     },
     "output_type": "display_data"
    }
   ],
   "source": [
    "for clase_i  in clases:\n",
    "    bin_idx = D[:,2]==clase_i\n",
    "    print('datos de la clase', clase_i)\n",
    "\n",
    "    a = (D[bin_idx,:2])\n",
    "    means = np.mean(a, axis=0)\n",
    "    std_clase_i = np.std(a, axis=0)\n",
    "    print(\"promedio clase \", clase_i, \":\", means)\n",
    "    print(\"desv estandar \", clase_i, \":\", std_clase_i)\n",
    "    print('-'*50)\n",
    "\n",
    "    plt.scatter(means[0],means[1], marker='x', s=100 )\n",
    "\n",
    "\n",
    "plt.scatter(D[:,0],D[:,1], c=D[:,2])\n"
   ]
  },
  {
   "cell_type": "code",
   "execution_count": 4,
   "metadata": {},
   "outputs": [
    {
     "name": "stdout",
     "output_type": "stream",
     "text": [
      "[-4.44444444e-05  1.11111111e-05]\n"
     ]
    },
    {
     "data": {
      "text/plain": [
       "<matplotlib.collections.PathCollection at 0x1f24c9c1f90>"
      ]
     },
     "execution_count": 4,
     "metadata": {},
     "output_type": "execute_result"
    },
    {
     "data": {
      "image/png": "[encoded data removed]",
      "text/plain": [
       "<Figure size 432x288 with 1 Axes>"
      ]
     },
     "metadata": {
      "needs_background": "light"
     },
     "output_type": "display_data"
    }
   ],
   "source": [
    "v = np.mean(D[:,:2], axis=0)\n",
    "print(v)\n",
    "plt.scatter(v[0], v[1])"
   ]
  },
  {
   "cell_type": "code",
   "execution_count": 12,
   "metadata": {},
   "outputs": [
    {
     "data": {
      "text/plain": [
       "6.449126067937389"
      ]
     },
     "execution_count": 12,
     "metadata": {},
     "output_type": "execute_result"
    }
   ],
   "source": [
    "from numpy.linalg import inv\n",
    "v = v.reshape(2,1)\n",
    "#Cb = [[0,0],[0,0]]\n",
    "#Cb = Cb.reshape(2,2)\n",
    "\n",
    "Cb = np.zeros([2,2])\n",
    "Cw = np.zeros([2,2])\n",
    "\n",
    "for clase_i  in clases:\n",
    "    bin_idx = D[:,2]==clase_i\n",
    "    a = (D[bin_idx,:2])\n",
    "    means = np.mean(a, axis=0)\n",
    "    means = means.reshape(2,1)\n",
    "    resta = means - v\n",
    "    Cb = 1/3 * (np.matmul(resta, resta.T)) + Cb\n",
    "    Cw = 1/3*np.cov(a.T)+  Cw\n",
    "    \n",
    "tmp = inv(Cw) @ Cb\n",
    "\n",
    "np.trace(tmp)\n"
   ]
  }
 ],
 "metadata": {
  "kernelspec": {
   "display_name": "Python 3.10.4 64-bit",
   "language": "python",
   "name": "python3"
  },
  "language_info": {
   "codemirror_mode": {
    "name": "ipython",
    "version": 3
   },
   "file_extension": ".py",
   "mimetype": "text/x-python",
   "name": "python",
   "nbconvert_exporter": "python",
   "pygments_lexer": "ipython3",
   "version": "3.10.4"
  },
  "orig_nbformat": 4,
  "vscode": {
   "interpreter": {
    "hash": "e7ccb2a435b656723dafd2fb88eb02b6891256ab8b77d2cf3044cea9811453d0"
   }
  }
 },
 "nbformat": 4,
 "nbformat_minor": 2
}
